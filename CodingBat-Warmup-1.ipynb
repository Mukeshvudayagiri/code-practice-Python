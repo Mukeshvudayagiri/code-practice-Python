{
  "nbformat": 4,
  "nbformat_minor": 0,
  "metadata": {
    "colab": {
      "provenance": [],
      "authorship_tag": "ABX9TyMRlt18BgjblkjeOx00W6Cr",
      "include_colab_link": true
    },
    "kernelspec": {
      "name": "python3",
      "display_name": "Python 3"
    },
    "language_info": {
      "name": "python"
    }
  },
  "cells": [
    {
      "cell_type": "markdown",
      "metadata": {
        "id": "view-in-github",
        "colab_type": "text"
      },
      "source": [
        "<a href=\"https://colab.research.google.com/github/Mukeshvudayagiri/code-practice-Python/blob/main/CodingBat-Warmup-1.ipynb\" target=\"_parent\"><img src=\"https://colab.research.google.com/assets/colab-badge.svg\" alt=\"Open In Colab\"/></a>"
      ]
    },
    {
      "cell_type": "markdown",
      "source": [
        "The parameter weekday is True if it is a weekday, and the parameter vacation is True if we are on vacation. We sleep in if it is not a weekday or we're on vacation. Return True if we sleep in.\n",
        "\n",
        "\n",
        "sleep_in(False, False) → True\n",
        "sleep_in(True, False) → False\n",
        "sleep_in(False, True) → True\n"
      ],
      "metadata": {
        "id": "ib2M29ba9AEi"
      }
    },
    {
      "cell_type": "code",
      "source": [
        "def sleep_in(weekday, vacation):\n",
        "  \"\"\"  \n",
        "  if weekday is True: \n",
        "    if vacation is True:\n",
        "      return True \n",
        "    else:\n",
        "      return False\n",
        "  if weekday is False:\n",
        "    if vacation is False: \n",
        "      return True \n",
        "    else:\n",
        "      return True\n",
        "  \"\"\"\n",
        "  if not weekday or vacation:\n",
        "    return True\n",
        "  else:\n",
        "    return False \n",
        "  "
      ],
      "metadata": {
        "id": "9VEw0fF-9FbP"
      },
      "execution_count": null,
      "outputs": []
    },
    {
      "cell_type": "markdown",
      "source": [
        "Solution:\n",
        "```\n",
        "def sleep_in(weekday, vacation):\n",
        "  if not weekday or vacation:\n",
        "    return True\n",
        "  else:\n",
        "    return False\n",
        "```\n",
        "  # This can be shortened to: return(not weekday or vacation)\n"
      ],
      "metadata": {
        "id": "XJHckBz69Rq1"
      }
    }
  ]
}